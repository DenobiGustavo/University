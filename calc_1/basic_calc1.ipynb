{
  "nbformat": 4,
  "nbformat_minor": 0,
  "metadata": {
    "colab": {
      "provenance": []
    },
    "kernelspec": {
      "name": "python3",
      "display_name": "Python 3"
    },
    "language_info": {
      "name": "python"
    }
  },
  "cells": [
    {
      "cell_type": "code",
      "source": [
        "import math"
      ],
      "metadata": {
        "id": "TwZ4UhgnzAYo"
      },
      "execution_count": null,
      "outputs": []
    },
    {
      "cell_type": "code",
      "source": [
        "math.sqrt(2)"
      ],
      "metadata": {
        "colab": {
          "base_uri": "https://localhost:8080/"
        },
        "id": "8OPnu7_GzGgG",
        "outputId": "0786a250-cd64-4902-89d7-6966cb34a5c5"
      },
      "execution_count": null,
      "outputs": [
        {
          "output_type": "execute_result",
          "data": {
            "text/plain": [
              "1.4142135623730951"
            ]
          },
          "metadata": {},
          "execution_count": 11
        }
      ]
    },
    {
      "cell_type": "code",
      "source": [
        "math.sqrt(2)**2"
      ],
      "metadata": {
        "colab": {
          "base_uri": "https://localhost:8080/"
        },
        "id": "tzxJrfLbzrs3",
        "outputId": "16ce5edc-4b0d-4c68-ee3c-dbef2efd14e3"
      },
      "execution_count": null,
      "outputs": [
        {
          "output_type": "execute_result",
          "data": {
            "text/plain": [
              "2.0000000000000004"
            ]
          },
          "metadata": {},
          "execution_count": 12
        }
      ]
    },
    {
      "cell_type": "code",
      "source": [
        "math.sqrt(2)**2 == 2"
      ],
      "metadata": {
        "colab": {
          "base_uri": "https://localhost:8080/"
        },
        "id": "Ad1pv7Zm1GGc",
        "outputId": "a8fb54f2-d20d-4c0c-c99a-6916a3ee3501"
      },
      "execution_count": null,
      "outputs": [
        {
          "output_type": "execute_result",
          "data": {
            "text/plain": [
              "False"
            ]
          },
          "metadata": {},
          "execution_count": 13
        }
      ]
    },
    {
      "cell_type": "code",
      "source": [
        "import sympy"
      ],
      "metadata": {
        "id": "4-umBTqI1wNu"
      },
      "execution_count": null,
      "outputs": []
    },
    {
      "cell_type": "code",
      "source": [
        "sympy.sqrt(2)"
      ],
      "metadata": {
        "colab": {
          "base_uri": "https://localhost:8080/",
          "height": 38
        },
        "id": "Z4Jc7Qdu16NO",
        "outputId": "ce303c30-ebb4-4c7a-d61a-c34d20091437"
      },
      "execution_count": null,
      "outputs": [
        {
          "output_type": "execute_result",
          "data": {
            "text/plain": [
              "sqrt(2)"
            ],
            "text/latex": "$\\displaystyle \\sqrt{2}$"
          },
          "metadata": {},
          "execution_count": 15
        }
      ]
    },
    {
      "cell_type": "code",
      "source": [
        "sympy.sqrt(2)**2 == 2"
      ],
      "metadata": {
        "colab": {
          "base_uri": "https://localhost:8080/"
        },
        "id": "L3Q8aaZQ2TW2",
        "outputId": "6373c171-3337-4016-e2bf-4fbe8f056331"
      },
      "execution_count": null,
      "outputs": [
        {
          "output_type": "execute_result",
          "data": {
            "text/plain": [
              "True"
            ]
          },
          "metadata": {},
          "execution_count": 16
        }
      ]
    },
    {
      "cell_type": "code",
      "source": [
        "sympy.sqrt(8)"
      ],
      "metadata": {
        "colab": {
          "base_uri": "https://localhost:8080/",
          "height": 38
        },
        "id": "p2OPGZ-R2ZrZ",
        "outputId": "25cd12f5-2a1f-4c86-ad95-48162e4ab1a3"
      },
      "execution_count": null,
      "outputs": [
        {
          "output_type": "execute_result",
          "data": {
            "text/plain": [
              "2*sqrt(2)"
            ],
            "text/latex": "$\\displaystyle 2 \\sqrt{2}$"
          },
          "metadata": {},
          "execution_count": 17
        }
      ]
    },
    {
      "cell_type": "code",
      "source": [
        "sympy.sqrt(8) == math.sqrt(8)"
      ],
      "metadata": {
        "colab": {
          "base_uri": "https://localhost:8080/"
        },
        "id": "lNcYraR72snO",
        "outputId": "196c9424-af03-4af1-8ba1-e4702dead129"
      },
      "execution_count": null,
      "outputs": [
        {
          "output_type": "execute_result",
          "data": {
            "text/plain": [
              "False"
            ]
          },
          "metadata": {},
          "execution_count": 21
        }
      ]
    },
    {
      "cell_type": "code",
      "source": [
        "sympy.sqrt(27)"
      ],
      "metadata": {
        "colab": {
          "base_uri": "https://localhost:8080/",
          "height": 38
        },
        "id": "xYjrwQMR2v9m",
        "outputId": "3d789c90-a67e-4ecc-ff26-51ce332386ab"
      },
      "execution_count": null,
      "outputs": [
        {
          "output_type": "execute_result",
          "data": {
            "text/plain": [
              "3*sqrt(3)"
            ],
            "text/latex": "$\\displaystyle 3 \\sqrt{3}$"
          },
          "metadata": {},
          "execution_count": 19
        }
      ]
    },
    {
      "cell_type": "code",
      "source": [
        "math.sqrt(8)"
      ],
      "metadata": {
        "colab": {
          "base_uri": "https://localhost:8080/"
        },
        "id": "6fkC8SHC3ASv",
        "outputId": "34f8a23a-ac63-4434-cacc-a82ebb3b7563"
      },
      "execution_count": null,
      "outputs": [
        {
          "output_type": "execute_result",
          "data": {
            "text/plain": [
              "2.8284271247461903"
            ]
          },
          "metadata": {},
          "execution_count": 20
        }
      ]
    },
    {
      "cell_type": "code",
      "source": [
        "x = sympy.Symbol('x')\n",
        "x + 2"
      ],
      "metadata": {
        "colab": {
          "base_uri": "https://localhost:8080/",
          "height": 39
        },
        "id": "fHHTKdWh3KQe",
        "outputId": "1256f9eb-90a6-434d-88a1-08465fcb3ae0"
      },
      "execution_count": null,
      "outputs": [
        {
          "output_type": "execute_result",
          "data": {
            "text/plain": [
              "x + 2"
            ],
            "text/latex": "$\\displaystyle x + 2$"
          },
          "metadata": {},
          "execution_count": 22
        }
      ]
    },
    {
      "cell_type": "code",
      "source": [
        "y , z = sympy.symbols('y z')\n",
        "x + y + z - 5"
      ],
      "metadata": {
        "colab": {
          "base_uri": "https://localhost:8080/",
          "height": 39
        },
        "id": "wMjFs_v63sV1",
        "outputId": "892991e8-1fb6-432d-de13-a383999d7068"
      },
      "execution_count": null,
      "outputs": [
        {
          "output_type": "execute_result",
          "data": {
            "text/plain": [
              "x + y + z - 5"
            ],
            "text/latex": "$\\displaystyle x + y + z - 5$"
          },
          "metadata": {},
          "execution_count": 23
        }
      ]
    },
    {
      "cell_type": "code",
      "source": [
        "a1, a2, a3, a4 = sympy.symbols('a1:5')"
      ],
      "metadata": {
        "id": "TMqDlOk74IEP"
      },
      "execution_count": null,
      "outputs": []
    },
    {
      "cell_type": "code",
      "source": [
        "a1 + a2 + a3 + a4"
      ],
      "metadata": {
        "colab": {
          "base_uri": "https://localhost:8080/",
          "height": 39
        },
        "id": "e0wgLC3i43FG",
        "outputId": "9f5a25b7-e4f0-438b-aa16-5aed70d00470"
      },
      "execution_count": null,
      "outputs": [
        {
          "output_type": "execute_result",
          "data": {
            "text/plain": [
              "a1 + a2 + a3 + a4"
            ],
            "text/latex": "$\\displaystyle a_{1} + a_{2} + a_{3} + a_{4}$"
          },
          "metadata": {},
          "execution_count": 28
        }
      ]
    },
    {
      "cell_type": "code",
      "source": [
        "a4 * x**4 + a3 * x**3 + a2 * x**2 + a1 * x + 2"
      ],
      "metadata": {
        "colab": {
          "base_uri": "https://localhost:8080/",
          "height": 39
        },
        "id": "SEk-p6ys5PJ-",
        "outputId": "6cfecf4f-d080-48fe-d033-0b11f5a5cd90"
      },
      "execution_count": null,
      "outputs": [
        {
          "output_type": "execute_result",
          "data": {
            "text/plain": [
              "a1*x + a2*x**2 + a3*x**3 + a4*x**4 + 2"
            ],
            "text/latex": "$\\displaystyle a_{1} x + a_{2} x^{2} + a_{3} x^{3} + a_{4} x^{4} + 2$"
          },
          "metadata": {},
          "execution_count": 30
        }
      ]
    },
    {
      "cell_type": "code",
      "source": [
        "sympy.init_printing(order='grlex')\n",
        "a4 * x**4 + a3 * x**3 + a2 * x**2 + a1 * x + 2"
      ],
      "metadata": {
        "colab": {
          "base_uri": "https://localhost:8080/",
          "height": 39
        },
        "id": "J_y0Bkd85oZP",
        "outputId": "897c8b21-e643-44f0-8c18-1d932308e5b2"
      },
      "execution_count": null,
      "outputs": [
        {
          "output_type": "execute_result",
          "data": {
            "text/plain": [
              "    4       3       2           \n",
              "a₄⋅x  + a₃⋅x  + a₂⋅x  + a₁⋅x + 2"
            ],
            "image/png": "[encoded data removed]",
            "text/latex": "$\\displaystyle a_{4} x^{4} + a_{3} x^{3} + a_{2} x^{2} + a_{1} x + 2$"
          },
          "metadata": {},
          "execution_count": 31
        }
      ]
    },
    {
      "cell_type": "code",
      "source": [
        "sympy.init_printing(order='lex')\n",
        "a4 * x**4 + a3 * x**3 + a2 * x**2 + a1 * x + 2"
      ],
      "metadata": {
        "colab": {
          "base_uri": "https://localhost:8080/",
          "height": 39
        },
        "id": "pXnPcUzv6fGt",
        "outputId": "4cb19cbc-6ca0-4a5d-c16e-15f8463c30be"
      },
      "execution_count": null,
      "outputs": [
        {
          "output_type": "execute_result",
          "data": {
            "text/plain": [
              "           2       3       4    \n",
              "a₁⋅x + a₂⋅x  + a₃⋅x  + a₄⋅x  + 2"
            ],
            "image/png": "[encoded data removed]",
            "text/latex": "$\\displaystyle a_{1} x + a_{2} x^{2} + a_{3} x^{3} + a_{4} x^{4} + 2$"
          },
          "metadata": {},
          "execution_count": 32
        }
      ]
    },
    {
      "cell_type": "code",
      "source": [
        "expr = 2 * x + 3 * x - sympy.sin(x) -3 * x + 42"
      ],
      "metadata": {
        "id": "QxK0QD576s1u"
      },
      "execution_count": null,
      "outputs": []
    },
    {
      "cell_type": "code",
      "source": [
        "expr"
      ],
      "metadata": {
        "colab": {
          "base_uri": "https://localhost:8080/",
          "height": 39
        },
        "id": "gpg-I8CD7jOM",
        "outputId": "677fb08c-1095-4e58-92e5-d60095069e81"
      },
      "execution_count": null,
      "outputs": [
        {
          "output_type": "execute_result",
          "data": {
            "text/plain": [
              "2⋅x - sin(x) + 42"
            ],
            "image/png": "[encoded data removed]",
            "text/latex": "$\\displaystyle 2 x - \\sin{\\left(x \\right)} + 42$"
          },
          "metadata": {},
          "execution_count": 34
        }
      ]
    },
    {
      "cell_type": "code",
      "source": [
        "(x + x * y) / x"
      ],
      "metadata": {
        "colab": {
          "base_uri": "https://localhost:8080/",
          "height": 50
        },
        "id": "TkS6hh-q7mUk",
        "outputId": "a7bfd1dc-4cc4-418a-a8e5-d905a48153ae"
      },
      "execution_count": null,
      "outputs": [
        {
          "output_type": "execute_result",
          "data": {
            "text/plain": [
              "x⋅y + x\n",
              "───────\n",
              "   x   "
            ],
            "image/png": "[encoded data removed]",
            "text/latex": "$\\displaystyle \\frac{x y + x}{x}$"
          },
          "metadata": {},
          "execution_count": 42
        }
      ]
    },
    {
      "cell_type": "code",
      "source": [
        "sympy.simplify(_)"
      ],
      "metadata": {
        "colab": {
          "base_uri": "https://localhost:8080/",
          "height": 39
        },
        "id": "586qL19374TM",
        "outputId": "082b940b-08f2-4a07-9c9b-7ba5064dace0"
      },
      "execution_count": null,
      "outputs": [
        {
          "output_type": "execute_result",
          "data": {
            "text/plain": [
              "y + 1"
            ],
            "image/png": "[encoded data removed]",
            "text/latex": "$\\displaystyle y + 1$"
          },
          "metadata": {},
          "execution_count": 43
        }
      ]
    },
    {
      "cell_type": "code",
      "source": [
        "expr.coeff(x)"
      ],
      "metadata": {
        "colab": {
          "base_uri": "https://localhost:8080/",
          "height": 37
        },
        "id": "SfKXyXDV8YT_",
        "outputId": "e45d65bc-8f40-495b-fe1e-931b6a23a8b3"
      },
      "execution_count": null,
      "outputs": [
        {
          "output_type": "execute_result",
          "data": {
            "text/plain": [
              "2"
            ],
            "image/png": "[encoded data removed]",
            "text/latex": "$\\displaystyle 2$"
          },
          "metadata": {},
          "execution_count": 44
        }
      ]
    },
    {
      "cell_type": "code",
      "source": [
        "sympy.factor(x**2 - 2*x - 8)"
      ],
      "metadata": {
        "colab": {
          "base_uri": "https://localhost:8080/",
          "height": 39
        },
        "id": "F_UvhEp29O78",
        "outputId": "33879a4d-9ad8-4ace-a188-4c225398c872"
      },
      "execution_count": null,
      "outputs": [
        {
          "output_type": "execute_result",
          "data": {
            "text/plain": [
              "(x - 4)⋅(x + 2)"
            ],
            "image/png": "[encoded data removed]",
            "text/latex": "$\\displaystyle \\left(x - 4\\right) \\left(x + 2\\right)$"
          },
          "metadata": {},
          "execution_count": 45
        }
      ]
    },
    {
      "cell_type": "code",
      "source": [
        "sympy.expand((x - 4)*(x + 2))"
      ],
      "metadata": {
        "colab": {
          "base_uri": "https://localhost:8080/",
          "height": 39
        },
        "id": "ySp07ZsY91tW",
        "outputId": "e84390f6-9aad-4b3a-d57a-6cecb2440c92"
      },
      "execution_count": null,
      "outputs": [
        {
          "output_type": "execute_result",
          "data": {
            "text/plain": [
              " 2          \n",
              "x  - 2⋅x - 8"
            ],
            "image/png": "[encoded data removed]",
            "text/latex": "$\\displaystyle x^{2} - 2 x - 8$"
          },
          "metadata": {},
          "execution_count": 46
        }
      ]
    },
    {
      "cell_type": "code",
      "source": [
        "sympy.cos(x + y)"
      ],
      "metadata": {
        "colab": {
          "base_uri": "https://localhost:8080/",
          "height": 39
        },
        "id": "ITheAiA_978m",
        "outputId": "6c798d6d-72a7-46a6-d8c2-f8026e527e8a"
      },
      "execution_count": null,
      "outputs": [
        {
          "output_type": "execute_result",
          "data": {
            "text/plain": [
              "cos(x + y)"
            ],
            "image/png": "[encoded data removed]",
            "text/latex": "$\\displaystyle \\cos{\\left(x + y \\right)}$"
          },
          "metadata": {},
          "execution_count": 47
        }
      ]
    },
    {
      "cell_type": "code",
      "source": [
        "sympy.sin(x + y)"
      ],
      "metadata": {
        "colab": {
          "base_uri": "https://localhost:8080/",
          "height": 39
        },
        "id": "YgFc45ad-A5-",
        "outputId": "dee3f863-f23c-494d-ef21-f4e3cdbcdff5"
      },
      "execution_count": null,
      "outputs": [
        {
          "output_type": "execute_result",
          "data": {
            "text/plain": [
              "sin(x + y)"
            ],
            "image/png": "[encoded data removed]",
            "text/latex": "$\\displaystyle \\sin{\\left(x + y \\right)}$"
          },
          "metadata": {},
          "execution_count": 48
        }
      ]
    },
    {
      "cell_type": "code",
      "source": [
        "sympy.expand(_, trig=True)"
      ],
      "metadata": {
        "colab": {
          "base_uri": "https://localhost:8080/",
          "height": 39
        },
        "id": "Ya9oaW5T-OWW",
        "outputId": "31a4aefc-a38b-4971-e3d7-0f6155fceafe"
      },
      "execution_count": null,
      "outputs": [
        {
          "output_type": "execute_result",
          "data": {
            "text/plain": [
              "sin(x)⋅cos(y) + sin(y)⋅cos(x)"
            ],
            "image/png": "[encoded data removed]",
            "text/latex": "$\\displaystyle \\sin{\\left(x \\right)} \\cos{\\left(y \\right)} + \\sin{\\left(y \\right)} \\cos{\\left(x \\right)}$"
          },
          "metadata": {},
          "execution_count": 50
        }
      ]
    },
    {
      "cell_type": "code",
      "source": [
        "a, b = sympy.symbols('a b')"
      ],
      "metadata": {
        "id": "Auqgs918-R7u"
      },
      "execution_count": null,
      "outputs": []
    },
    {
      "cell_type": "code",
      "source": [
        "expr = x**2 + x*b + a*x + a*b"
      ],
      "metadata": {
        "id": "TOzgYzdB_Er2"
      },
      "execution_count": null,
      "outputs": []
    },
    {
      "cell_type": "code",
      "source": [
        "expr"
      ],
      "metadata": {
        "colab": {
          "base_uri": "https://localhost:8080/",
          "height": 39
        },
        "id": "4JN7rNAr_FdO",
        "outputId": "f6f42900-adbd-4d56-a636-7213d64aa600"
      },
      "execution_count": null,
      "outputs": [
        {
          "output_type": "execute_result",
          "data": {
            "text/plain": [
              "                   2\n",
              "a⋅b + a⋅x + b⋅x + x "
            ],
            "image/png": "[encoded data removed]",
            "text/latex": "$\\displaystyle a b + a x + b x + x^{2}$"
          },
          "metadata": {},
          "execution_count": 56
        }
      ]
    },
    {
      "cell_type": "code",
      "source": [
        "expr = sympy.sin(x) + sympy.cos(y)"
      ],
      "metadata": {
        "id": "TRaRHCGg_jSt"
      },
      "execution_count": null,
      "outputs": []
    },
    {
      "cell_type": "code",
      "source": [
        "expr"
      ],
      "metadata": {
        "colab": {
          "base_uri": "https://localhost:8080/",
          "height": 39
        },
        "id": "6KHZSy88AIrN",
        "outputId": "77cb1db6-1ca3-4869-d2d6-e7fbe390ed55"
      },
      "execution_count": null,
      "outputs": [
        {
          "output_type": "execute_result",
          "data": {
            "text/plain": [
              "sin(x) + cos(y)"
            ],
            "image/png": "[encoded data removed]",
            "text/latex": "$\\displaystyle \\sin{\\left(x \\right)} + \\cos{\\left(y \\right)}$"
          },
          "metadata": {},
          "execution_count": 61
        }
      ]
    },
    {
      "cell_type": "code",
      "source": [
        "expr.subs({x: 1, y: 2})"
      ],
      "metadata": {
        "colab": {
          "base_uri": "https://localhost:8080/",
          "height": 37
        },
        "id": "KgGg7cVfALtl",
        "outputId": "975e7199-141f-4a0b-c758-25414382fecc"
      },
      "execution_count": null,
      "outputs": [
        {
          "output_type": "execute_result",
          "data": {
            "text/plain": [
              "cos(2) + sin(1)"
            ],
            "image/png": "[encoded data removed]",
            "text/latex": "$\\displaystyle \\cos{\\left(2 \\right)} + \\sin{\\left(1 \\right)}$"
          },
          "metadata": {},
          "execution_count": 62
        }
      ]
    },
    {
      "cell_type": "code",
      "source": [
        "expr.subs({x: 1, y: 2}).n()"
      ],
      "metadata": {
        "colab": {
          "base_uri": "https://localhost:8080/",
          "height": 37
        },
        "id": "p5Vv7IN5AVfg",
        "outputId": "db22d0a2-7da9-4add-d07c-255a63fc1a98"
      },
      "execution_count": null,
      "outputs": [
        {
          "output_type": "execute_result",
          "data": {
            "text/plain": [
              "0.425324148260754"
            ],
            "image/png": "[encoded data removed]",
            "text/latex": "$\\displaystyle 0.425324148260754$"
          },
          "metadata": {},
          "execution_count": 63
        }
      ]
    },
    {
      "cell_type": "code",
      "source": [
        "expr.subs({x: sympy.pi, y: 0})"
      ],
      "metadata": {
        "colab": {
          "base_uri": "https://localhost:8080/",
          "height": 37
        },
        "id": "vjmLY8y3Aa0w",
        "outputId": "6e5eff23-f6e5-490d-a18b-627b304a23e4"
      },
      "execution_count": null,
      "outputs": [
        {
          "output_type": "execute_result",
          "data": {
            "text/plain": [
              "1"
            ],
            "image/png": "[encoded data removed]",
            "text/latex": "$\\displaystyle 1$"
          },
          "metadata": {},
          "execution_count": 64
        }
      ]
    },
    {
      "cell_type": "code",
      "source": [
        "expr.subs({x: sympy.pi/2, y: sympy.pi/4})"
      ],
      "metadata": {
        "colab": {
          "base_uri": "https://localhost:8080/",
          "height": 55
        },
        "id": "pjBXuDWlA1pB",
        "outputId": "95a35fa8-a9eb-46b7-ab75-bcd2209b5e51"
      },
      "execution_count": null,
      "outputs": [
        {
          "output_type": "execute_result",
          "data": {
            "text/plain": [
              "√2    \n",
              "── + 1\n",
              "2     "
            ],
            "image/png": "[encoded data removed]",
            "text/latex": "$\\displaystyle \\frac{\\sqrt{2}}{2} + 1$"
          },
          "metadata": {},
          "execution_count": 65
        }
      ]
    },
    {
      "cell_type": "code",
      "source": [
        "expr.subs({x: sympy.pi/2.5, y: sympy.pi/4.3})"
      ],
      "metadata": {
        "colab": {
          "base_uri": "https://localhost:8080/",
          "height": 39
        },
        "id": "huxE2FfYA-sY",
        "outputId": "6866dddf-b9f4-4e55-b78b-54b49c7e2a6b"
      },
      "execution_count": null,
      "outputs": [
        {
          "output_type": "execute_result",
          "data": {
            "text/plain": [
              "cos(0.232558139534884⋅π) + sin(0.4⋅π)"
            ],
            "image/png": "[encoded data removed]",
            "text/latex": "$\\displaystyle \\cos{\\left(0.232558139534884 \\pi \\right)} + \\sin{\\left(0.4 \\pi \\right)}$"
          },
          "metadata": {},
          "execution_count": 66
        }
      ]
    },
    {
      "cell_type": "code",
      "source": [
        "expr = a * b + a * x + b * x + x**2\n"
      ],
      "metadata": {
        "id": "ktHMyLLyBSnH"
      },
      "execution_count": null,
      "outputs": []
    },
    {
      "cell_type": "code",
      "source": [
        "sympy.collect( expr, x )"
      ],
      "metadata": {
        "colab": {
          "base_uri": "https://localhost:8080/",
          "height": 39
        },
        "id": "W7ycPNtWB4XY",
        "outputId": "f0872d6b-4f13-4437-996d-48c54392bfb3"
      },
      "execution_count": null,
      "outputs": [
        {
          "output_type": "execute_result",
          "data": {
            "text/plain": [
              "       2            \n",
              "a⋅b + x  + x⋅(a + b)"
            ],
            "image/png": "[encoded data removed]",
            "text/latex": "$\\displaystyle a b + x^{2} + x \\left(a + b\\right)$"
          },
          "metadata": {},
          "execution_count": 69
        }
      ]
    },
    {
      "cell_type": "code",
      "source": [],
      "metadata": {
        "id": "2VQ-hmts2-lq"
      },
      "execution_count": null,
      "outputs": []
    },
    {
      "cell_type": "code",
      "source": [
        "from google.colab import drive\n",
        "drive.mount('/content/drive')"
      ],
      "metadata": {
        "id": "gfINp6i234aa"
      },
      "execution_count": null,
      "outputs": []
    }
  ]
}