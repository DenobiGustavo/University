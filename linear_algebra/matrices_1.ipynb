{
  "cells": [
    {
      "cell_type": "code",
      "execution_count": null,
      "metadata": {
        "id": "WY6d14pRE96x"
      },
      "outputs": [],
      "source": [
        "import numpy as np"
      ]
    },
    {
      "cell_type": "code",
      "execution_count": null,
      "metadata": {
        "id": "Et3-AAYsFyka"
      },
      "outputs": [],
      "source": [
        "A = np.matrix('1.0, 1.0, 2.0, 9.0; 2.0, 4.0, -3.0, 1.0; 3.0, 6.0, -5.0, 0.0')"
      ]
    },
    {
      "cell_type": "code",
      "execution_count": null,
      "metadata": {
        "colab": {
          "base_uri": "https://localhost:8080/"
        },
        "id": "70bpyw_kOSq5",
        "outputId": "0136c5da-4416-47b3-d679-53f93d0418b1"
      },
      "outputs": [
        {
          "name": "stdout",
          "output_type": "stream",
          "text": [
            "[[ 1.  1.  2.  9.]\n",
            " [ 2.  4. -3.  1.]\n",
            " [ 3.  6. -5.  0.]]\n"
          ]
        }
      ],
      "source": [
        "print(A)"
      ]
    },
    {
      "cell_type": "code",
      "execution_count": null,
      "metadata": {
        "colab": {
          "base_uri": "https://localhost:8080/"
        },
        "id": "K6dq2vc5Oulk",
        "outputId": "0df73cea-ea69-4dd7-d254-d9cd26324e3f"
      },
      "outputs": [
        {
          "name": "stdout",
          "output_type": "stream",
          "text": [
            "[[  1.   1.   2.   9.]\n",
            " [  0.   2.  -7. -17.]\n",
            " [  3.   6.  -5.   0.]]\n"
          ]
        }
      ],
      "source": [
        "A[1,:] = -2*A[0,:] + A[1,:]\n",
        "print(A)"
      ]
    },
    {
      "cell_type": "code",
      "execution_count": null,
      "metadata": {
        "id": "bLmj2GjkPbE1"
      },
      "outputs": [],
      "source": [
        "A[2,:] = A[2,:] - 3*A[0,:]"
      ]
    },
    {
      "cell_type": "code",
      "execution_count": null,
      "metadata": {
        "colab": {
          "base_uri": "https://localhost:8080/"
        },
        "id": "eKqC_octPqEc",
        "outputId": "65e83583-5548-4278-e3a0-f74fbbda78cb"
      },
      "outputs": [
        {
          "name": "stdout",
          "output_type": "stream",
          "text": [
            "[[  1.   1.   2.   9.]\n",
            " [  0.   2.  -7. -17.]\n",
            " [  0.   3. -11. -27.]]\n"
          ]
        }
      ],
      "source": [
        "print(A)"
      ]
    },
    {
      "cell_type": "code",
      "execution_count": null,
      "metadata": {
        "colab": {
          "base_uri": "https://localhost:8080/"
        },
        "id": "N67h-fsnPvS_",
        "outputId": "791eccca-38ad-43ae-dcba-59ae48b04ec2"
      },
      "outputs": [
        {
          "name": "stdout",
          "output_type": "stream",
          "text": [
            "[[  1.    1.    2.    9. ]\n",
            " [  0.    1.   -3.5  -8.5]\n",
            " [  0.    3.  -11.  -27. ]]\n"
          ]
        }
      ],
      "source": [
        "A[1,:] = 1/2*A[1,:]\n",
        "print(A)"
      ]
    },
    {
      "cell_type": "code",
      "execution_count": null,
      "metadata": {
        "colab": {
          "base_uri": "https://localhost:8080/"
        },
        "id": "bmWfswwPQ6S5",
        "outputId": "03806b47-a1ea-4973-e86c-2f9912f124fd"
      },
      "outputs": [
        {
          "name": "stdout",
          "output_type": "stream",
          "text": [
            "[[ 1.   1.   2.   9. ]\n",
            " [ 0.   1.  -3.5 -8.5]\n",
            " [ 0.   0.  -0.5 -1.5]]\n"
          ]
        }
      ],
      "source": [
        "A[2,:] = A[2,:] -3*A[1,:]\n",
        "print(A)"
      ]
    },
    {
      "cell_type": "code",
      "execution_count": null,
      "metadata": {
        "colab": {
          "base_uri": "https://localhost:8080/"
        },
        "id": "HLE3qrMCVCVQ",
        "outputId": "0be40900-9be8-4883-f0c6-2bb257ca7fd2"
      },
      "outputs": [
        {
          "name": "stdout",
          "output_type": "stream",
          "text": [
            "[[ 1.   1.   0.   3. ]\n",
            " [ 0.   1.   3.5 12.5]\n",
            " [ 0.   0.  -1.  -3. ]]\n"
          ]
        }
      ],
      "source": [
        "A[1,:] = A[1,:] - 7*A[2,:]\n",
        "print(A)"
      ]
    },
    {
      "cell_type": "code",
      "execution_count": null,
      "metadata": {
        "id": "XjGXo2qPVd4f"
      },
      "outputs": [],
      "source": []
    }
  ],
  "metadata": {
    "colab": {
      "provenance": []
    },
    "kernelspec": {
      "display_name": "Python 3",
      "name": "python3"
    },
    "language_info": {
      "name": "python"
    }
  },
  "nbformat": 4,
  "nbformat_minor": 0
}
