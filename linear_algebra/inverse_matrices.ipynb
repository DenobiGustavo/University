{
  "nbformat": 4,
  "nbformat_minor": 0,
  "metadata": {
    "colab": {
      "provenance": []
    },
    "kernelspec": {
      "name": "python3",
      "display_name": "Python 3"
    },
    "language_info": {
      "name": "python"
    }
  },
  "cells": [
    {
      "cell_type": "code",
      "execution_count": null,
      "metadata": {
        "id": "pRwNM6R4N-cz"
      },
      "outputs": [],
      "source": [
        "import numpy as np"
      ]
    },
    {
      "cell_type": "code",
      "source": [
        "A = np.matrix('2.0,2.0,6.0;3.0,1.0,1.0;3.0,8.0,4.0')\n",
        "print(A)"
      ],
      "metadata": {
        "colab": {
          "base_uri": "https://localhost:8080/"
        },
        "id": "FC6bJ9VDOK3h",
        "outputId": "645829eb-f0d7-4fb8-9b7b-b55bc872b4a5"
      },
      "execution_count": null,
      "outputs": [
        {
          "output_type": "stream",
          "name": "stdout",
          "text": [
            "[[2. 2. 6.]\n",
            " [3. 1. 1.]\n",
            " [3. 8. 4.]]\n"
          ]
        }
      ]
    },
    {
      "cell_type": "code",
      "source": [
        "X = np.identity(3)\n",
        "print(X)"
      ],
      "metadata": {
        "colab": {
          "base_uri": "https://localhost:8080/"
        },
        "id": "qqRCb4R3OZ5Y",
        "outputId": "f26b9422-8e78-4763-b5fb-2ee843710fa2"
      },
      "execution_count": null,
      "outputs": [
        {
          "output_type": "stream",
          "name": "stdout",
          "text": [
            "[[1. 0. 0.]\n",
            " [0. 1. 0.]\n",
            " [0. 0. 1.]]\n"
          ]
        }
      ]
    },
    {
      "cell_type": "code",
      "source": [
        "A[0,:] = 1/2*A[0,:]\n",
        "print(A)"
      ],
      "metadata": {
        "colab": {
          "base_uri": "https://localhost:8080/"
        },
        "id": "MJFYxQZCQNx4",
        "outputId": "f0aa0454-2069-406c-c33d-5f14bb11a36b"
      },
      "execution_count": null,
      "outputs": [
        {
          "output_type": "stream",
          "name": "stdout",
          "text": [
            "[[1. 1. 3.]\n",
            " [3. 1. 1.]\n",
            " [3. 8. 4.]]\n"
          ]
        }
      ]
    },
    {
      "cell_type": "code",
      "source": [
        "X[0,:] = 1/2*X[0,:]\n",
        "print(X)"
      ],
      "metadata": {
        "colab": {
          "base_uri": "https://localhost:8080/"
        },
        "id": "73u9uPNPQ7gB",
        "outputId": "634151d3-ef40-4ce9-e3b9-b65122190f49"
      },
      "execution_count": null,
      "outputs": [
        {
          "output_type": "stream",
          "name": "stdout",
          "text": [
            "[[0.5 0.  0. ]\n",
            " [0.  1.  0. ]\n",
            " [0.  0.  1. ]]\n"
          ]
        }
      ]
    },
    {
      "cell_type": "code",
      "source": [
        "A[1,:] = 3*A[0,:] - A[1,:]\n",
        "print(A)"
      ],
      "metadata": {
        "colab": {
          "base_uri": "https://localhost:8080/"
        },
        "id": "USLBPvr1RJjW",
        "outputId": "b2118053-17d1-407c-862c-7133b48aa2e0"
      },
      "execution_count": null,
      "outputs": [
        {
          "output_type": "stream",
          "name": "stdout",
          "text": [
            "[[1. 1. 3.]\n",
            " [0. 2. 8.]\n",
            " [3. 8. 4.]]\n"
          ]
        }
      ]
    },
    {
      "cell_type": "code",
      "source": [
        "X[1,:] = 3*X[0,:] - A[1,:]\n",
        "print(X)"
      ],
      "metadata": {
        "colab": {
          "base_uri": "https://localhost:8080/"
        },
        "id": "krWthRAkRhbF",
        "outputId": "3f712c75-d575-47b0-b6b0-6be37e0f995d"
      },
      "execution_count": null,
      "outputs": [
        {
          "output_type": "stream",
          "name": "stdout",
          "text": [
            "[[ 0.5  0.   0. ]\n",
            " [ 1.5 -2.  -8. ]\n",
            " [ 0.   0.   1. ]]\n"
          ]
        }
      ]
    },
    {
      "cell_type": "code",
      "source": [
        "A[2,:] = 3*A[0,:] - A[2,:]\n",
        "print(A)"
      ],
      "metadata": {
        "colab": {
          "base_uri": "https://localhost:8080/"
        },
        "id": "mtT7GVk_RrXh",
        "outputId": "438a89f0-bb7c-4e40-9c84-7463b82f20c2"
      },
      "execution_count": null,
      "outputs": [
        {
          "output_type": "stream",
          "name": "stdout",
          "text": [
            "[[ 1.  1.  3.]\n",
            " [ 0.  2.  8.]\n",
            " [ 0. -5.  5.]]\n"
          ]
        }
      ]
    },
    {
      "cell_type": "code",
      "source": [
        "X[2,:] = 3*X[0,:] - X[2,:]\n",
        "print(X)"
      ],
      "metadata": {
        "colab": {
          "base_uri": "https://localhost:8080/"
        },
        "id": "DvkiRgXESPKu",
        "outputId": "995dca2a-46e2-46ea-f702-4d49c172160b"
      },
      "execution_count": null,
      "outputs": [
        {
          "output_type": "stream",
          "name": "stdout",
          "text": [
            "[[ 0.5  0.   0. ]\n",
            " [ 1.5 -2.  -8. ]\n",
            " [ 1.5  0.  -1. ]]\n"
          ]
        }
      ]
    },
    {
      "cell_type": "code",
      "source": [
        "A[1,:] = 1/2*A[1,:]\n",
        "print(A)"
      ],
      "metadata": {
        "colab": {
          "base_uri": "https://localhost:8080/"
        },
        "id": "8ZzmC0o0Sm9Z",
        "outputId": "04d22296-cabd-497d-d4ed-8fed756555a7"
      },
      "execution_count": null,
      "outputs": [
        {
          "output_type": "stream",
          "name": "stdout",
          "text": [
            "[[ 1.  1.  3.]\n",
            " [ 0.  1.  4.]\n",
            " [ 0. -5.  5.]]\n"
          ]
        }
      ]
    },
    {
      "cell_type": "code",
      "source": [
        "X[1,:] = 1/2*X[1,:]\n",
        "print(X)"
      ],
      "metadata": {
        "colab": {
          "base_uri": "https://localhost:8080/"
        },
        "id": "lYKPcuysSwwr",
        "outputId": "7659409b-249a-4ce2-be9b-8e8da2ccf27d"
      },
      "execution_count": null,
      "outputs": [
        {
          "output_type": "stream",
          "name": "stdout",
          "text": [
            "[[ 0.5   0.    0.  ]\n",
            " [ 0.75 -1.   -4.  ]\n",
            " [ 1.5   0.   -1.  ]]\n"
          ]
        }
      ]
    },
    {
      "cell_type": "code",
      "source": [
        "A[2,:] = 5*A[1,:] + A[2,:]\n",
        "print(A)"
      ],
      "metadata": {
        "colab": {
          "base_uri": "https://localhost:8080/"
        },
        "id": "sH37MFrRS__v",
        "outputId": "6b412c97-78f8-45f7-aab7-193b95b1e866"
      },
      "execution_count": null,
      "outputs": [
        {
          "output_type": "stream",
          "name": "stdout",
          "text": [
            "[[ 1.  1.  3.]\n",
            " [ 0.  1.  4.]\n",
            " [ 0.  0. 25.]]\n"
          ]
        }
      ]
    },
    {
      "cell_type": "code",
      "source": [
        "X[2,:] = 5*X[1,:] + X[2,:]\n",
        "print(X)"
      ],
      "metadata": {
        "colab": {
          "base_uri": "https://localhost:8080/"
        },
        "id": "aTr0XuTOTbRx",
        "outputId": "b2e00259-1ca8-4053-e2b4-f5911a7c26a0"
      },
      "execution_count": null,
      "outputs": [
        {
          "output_type": "stream",
          "name": "stdout",
          "text": [
            "[[  0.5    0.     0.  ]\n",
            " [  0.75  -1.    -4.  ]\n",
            " [  5.25  -5.   -21.  ]]\n"
          ]
        }
      ]
    },
    {
      "cell_type": "code",
      "source": [
        "A[0,:] = A[0,:] - A[1,:]\n",
        "print(A)"
      ],
      "metadata": {
        "colab": {
          "base_uri": "https://localhost:8080/"
        },
        "id": "snuxys5sUJXb",
        "outputId": "41c01ef9-522a-4dff-ea5e-05372f7e17a4"
      },
      "execution_count": null,
      "outputs": [
        {
          "output_type": "stream",
          "name": "stdout",
          "text": [
            "[[ 1.  0. -1.]\n",
            " [ 0.  1.  4.]\n",
            " [ 0.  0. 25.]]\n"
          ]
        }
      ]
    },
    {
      "cell_type": "code",
      "source": [
        "X[0,:] = X[0,:] - X[1,:]\n",
        "print(X)"
      ],
      "metadata": {
        "colab": {
          "base_uri": "https://localhost:8080/"
        },
        "id": "cMRcEVvQU1rK",
        "outputId": "c46c44ba-f2da-43c9-c8f6-842886996ab0"
      },
      "execution_count": null,
      "outputs": [
        {
          "output_type": "stream",
          "name": "stdout",
          "text": [
            "[[ -0.25   1.     4.  ]\n",
            " [  0.75  -1.    -4.  ]\n",
            " [  5.25  -5.   -21.  ]]\n"
          ]
        }
      ]
    },
    {
      "cell_type": "code",
      "source": [
        "A[2,:] = 1/25*A[2,:]\n",
        "print(A)"
      ],
      "metadata": {
        "colab": {
          "base_uri": "https://localhost:8080/"
        },
        "id": "-6En_3FTWVtY",
        "outputId": "60b6b9e4-20ec-4a70-9120-cb074688494e"
      },
      "execution_count": null,
      "outputs": [
        {
          "output_type": "stream",
          "name": "stdout",
          "text": [
            "[[ 1.  0. -1.]\n",
            " [ 0.  1.  4.]\n",
            " [ 0.  0.  1.]]\n"
          ]
        }
      ]
    },
    {
      "cell_type": "code",
      "source": [
        "X[2,:] = 1/25*X[2,:]\n",
        "print(X)"
      ],
      "metadata": {
        "colab": {
          "base_uri": "https://localhost:8080/"
        },
        "id": "cyz_UIzkXE1H",
        "outputId": "f31ecf2d-a7b2-48e6-cc2d-5b92e531a681"
      },
      "execution_count": null,
      "outputs": [
        {
          "output_type": "stream",
          "name": "stdout",
          "text": [
            "[[-0.25  1.    4.  ]\n",
            " [ 0.75 -1.   -4.  ]\n",
            " [ 0.21 -0.2  -0.84]]\n"
          ]
        }
      ]
    },
    {
      "cell_type": "code",
      "source": [
        "A[1,:] = -4*A[2,:] + A[1,:]\n",
        "print(A)"
      ],
      "metadata": {
        "colab": {
          "base_uri": "https://localhost:8080/"
        },
        "id": "6AnwGPBEXYSp",
        "outputId": "ba1921f1-46d7-4c88-87f4-c3c66a51c565"
      },
      "execution_count": null,
      "outputs": [
        {
          "output_type": "stream",
          "name": "stdout",
          "text": [
            "[[ 1.  0. -1.]\n",
            " [ 0.  1.  0.]\n",
            " [ 0.  0.  1.]]\n"
          ]
        }
      ]
    },
    {
      "cell_type": "code",
      "source": [
        "X[1,:] = -4*X[2,:] + X[1,:]\n",
        "print(X)"
      ],
      "metadata": {
        "colab": {
          "base_uri": "https://localhost:8080/"
        },
        "id": "1HTCzA7pXoh7",
        "outputId": "5775cf08-e031-4de7-f2e2-04ccfa0e1939"
      },
      "execution_count": null,
      "outputs": [
        {
          "output_type": "stream",
          "name": "stdout",
          "text": [
            "[[-0.25  1.    4.  ]\n",
            " [-0.09 -0.2  -0.64]\n",
            " [ 0.21 -0.2  -0.84]]\n"
          ]
        }
      ]
    },
    {
      "cell_type": "code",
      "source": [
        "A[0,:] = A[2,:] + A[0,:]\n",
        "print(A)"
      ],
      "metadata": {
        "colab": {
          "base_uri": "https://localhost:8080/"
        },
        "id": "p7RpBX2KYJ-M",
        "outputId": "3e20a938-64c0-40c2-a47e-082b3a68cc11"
      },
      "execution_count": null,
      "outputs": [
        {
          "output_type": "stream",
          "name": "stdout",
          "text": [
            "[[1. 0. 0.]\n",
            " [0. 1. 0.]\n",
            " [0. 0. 1.]]\n"
          ]
        }
      ]
    },
    {
      "cell_type": "code",
      "source": [
        "X[0,:] = X[2,:] + X[0,:]\n",
        "print(X)"
      ],
      "metadata": {
        "colab": {
          "base_uri": "https://localhost:8080/"
        },
        "id": "bASc1xpqYca3",
        "outputId": "1690da5e-ec14-431e-f006-75a9d7b1a542"
      },
      "execution_count": null,
      "outputs": [
        {
          "output_type": "stream",
          "name": "stdout",
          "text": [
            "[[-0.04  0.8   3.16]\n",
            " [-0.09 -0.2  -0.64]\n",
            " [ 0.21 -0.2  -0.84]]\n"
          ]
        }
      ]
    },
    {
      "cell_type": "code",
      "source": [
        "U = X.dot(A)\n",
        "print(U)"
      ],
      "metadata": {
        "colab": {
          "base_uri": "https://localhost:8080/"
        },
        "id": "86ufi0C2Y998",
        "outputId": "c79b1067-6f45-4708-f107-618c147dd24d"
      },
      "execution_count": null,
      "outputs": [
        {
          "output_type": "stream",
          "name": "stdout",
          "text": [
            "[[-0.04  0.8   3.16]\n",
            " [-0.09 -0.2  -0.64]\n",
            " [ 0.21 -0.2  -0.84]]\n"
          ]
        }
      ]
    },
    {
      "cell_type": "code",
      "source": [
        "L = np.matrix('2.0,2.0,6.0;3.0,1.0,1.0;3.0,8.0,4.0')\n",
        "print(L)"
      ],
      "metadata": {
        "colab": {
          "base_uri": "https://localhost:8080/"
        },
        "id": "Ynnrf5tDZUvu",
        "outputId": "cac44be8-a5c2-411a-d90c-3be8123593c7"
      },
      "execution_count": null,
      "outputs": [
        {
          "output_type": "stream",
          "name": "stdout",
          "text": [
            "[[2. 2. 6.]\n",
            " [3. 1. 1.]\n",
            " [3. 8. 4.]]\n"
          ]
        }
      ]
    },
    {
      "cell_type": "code",
      "source": [
        "U = L.dot(X)\n",
        "print(U)"
      ],
      "metadata": {
        "colab": {
          "base_uri": "https://localhost:8080/"
        },
        "id": "7HHu4dPbZmfn",
        "outputId": "0d4c6d95-7ef8-4557-d4b5-5b34a5458f15"
      },
      "execution_count": null,
      "outputs": [
        {
          "output_type": "stream",
          "name": "stdout",
          "text": [
            "[[1.00000000e+00 1.11022302e-16 2.22044605e-16]\n",
            " [0.00000000e+00 2.00000000e+00 8.00000000e+00]\n",
            " [2.22044605e-16 6.66133815e-16 1.00000000e+00]]\n"
          ]
        }
      ]
    },
    {
      "cell_type": "code",
      "source": [],
      "metadata": {
        "id": "xdbNmMVzZwLl"
      },
      "execution_count": null,
      "outputs": []
    }
  ]
}